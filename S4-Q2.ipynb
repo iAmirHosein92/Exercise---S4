{
 "cells": [
  {
   "cell_type": "code",
   "execution_count": 12,
   "metadata": {},
   "outputs": [
    {
     "name": "stdout",
     "output_type": "stream",
     "text": [
      "niesohrima\n"
     ]
    }
   ],
   "source": [
    "my_name = \"amirhosein\"\n",
    "i = len(my_name) - 1\n",
    "revers_name = \"\"\n",
    "for letter in my_name:\n",
    "    for char in my_name[i]:\n",
    "        revers_name += char\n",
    "        i -= 1\n",
    "print(revers_name)"
   ]
  },
  {
   "cell_type": "code",
   "execution_count": 16,
   "metadata": {},
   "outputs": [
    {
     "name": "stdout",
     "output_type": "stream",
     "text": [
      "niesohrima\n"
     ]
    }
   ],
   "source": [
    "my_name = \"amirhosein\"\n",
    "revers_name = \"\"\n",
    "for char in my_name:\n",
    "    revers_name  = char + revers_name\n",
    "print(revers_name)"
   ]
  },
  {
   "cell_type": "code",
   "execution_count": 17,
   "metadata": {},
   "outputs": [
    {
     "name": "stdout",
     "output_type": "stream",
     "text": [
      "niesohrima\n"
     ]
    }
   ],
   "source": [
    "my_name = \"amirhosein\"\n",
    "print(my_name[::-1])"
   ]
  }
 ],
 "metadata": {
  "kernelspec": {
   "display_name": "Python 3",
   "language": "python",
   "name": "python3"
  },
  "language_info": {
   "codemirror_mode": {
    "name": "ipython",
    "version": 3
   },
   "file_extension": ".py",
   "mimetype": "text/x-python",
   "name": "python",
   "nbconvert_exporter": "python",
   "pygments_lexer": "ipython3",
   "version": "3.10.11"
  }
 },
 "nbformat": 4,
 "nbformat_minor": 2
}
