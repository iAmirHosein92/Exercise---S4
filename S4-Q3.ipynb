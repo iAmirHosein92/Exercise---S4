{
 "cells": [
  {
   "cell_type": "code",
   "execution_count": 5,
   "metadata": {},
   "outputs": [
    {
     "name": "stdout",
     "output_type": "stream",
     "text": [
      "100\n",
      "Average is = 50.5\n"
     ]
    }
   ],
   "source": [
    "user_input = int(input(\"Enter a Value : \"))\n",
    "sum = 0\n",
    "counter = -1\n",
    "for i in range(user_input + 1):\n",
    "    sum += i\n",
    "    counter += 1\n",
    "print(counter)\n",
    "average = sum / counter\n",
    "print(f\"Average is = {average}\")\n"
   ]
  }
 ],
 "metadata": {
  "kernelspec": {
   "display_name": "Python 3",
   "language": "python",
   "name": "python3"
  },
  "language_info": {
   "codemirror_mode": {
    "name": "ipython",
    "version": 3
   },
   "file_extension": ".py",
   "mimetype": "text/x-python",
   "name": "python",
   "nbconvert_exporter": "python",
   "pygments_lexer": "ipython3",
   "version": "3.10.11"
  }
 },
 "nbformat": 4,
 "nbformat_minor": 2
}
