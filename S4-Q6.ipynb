{
 "cells": [
  {
   "cell_type": "code",
   "execution_count": 11,
   "metadata": {},
   "outputs": [
    {
     "name": "stdout",
     "output_type": "stream",
     "text": [
      "Total = 45\n"
     ]
    }
   ],
   "source": [
    "user_input = int(input(\"Enter a Value: \"))\n",
    "odd = 0\n",
    "divid_five = 0\n",
    "for i in range(user_input + 1):\n",
    "    if i % 2 != 0:\n",
    "        odd += i\n",
    "    if i % 5 == 0:\n",
    "        divid_five += i\n",
    "\n",
    "total = divid_five * odd\n",
    "print(f\"Total = {total}\")\n"
   ]
  }
 ],
 "metadata": {
  "kernelspec": {
   "display_name": "Python 3",
   "language": "python",
   "name": "python3"
  },
  "language_info": {
   "codemirror_mode": {
    "name": "ipython",
    "version": 3
   },
   "file_extension": ".py",
   "mimetype": "text/x-python",
   "name": "python",
   "nbconvert_exporter": "python",
   "pygments_lexer": "ipython3",
   "version": "3.10.11"
  }
 },
 "nbformat": 4,
 "nbformat_minor": 2
}
