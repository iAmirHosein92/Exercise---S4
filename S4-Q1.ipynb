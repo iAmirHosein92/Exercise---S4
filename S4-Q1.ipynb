{
 "cells": [
  {
   "cell_type": "code",
   "execution_count": 13,
   "metadata": {},
   "outputs": [
    {
     "name": "stdout",
     "output_type": "stream",
     "text": [
      "Your weight on the moon This Year =   13.2\n",
      "Year '1' = 13.365 \n",
      "Year '2' = 13.53 \n",
      "Year '3' = 13.695 \n",
      "Year '4' = 13.86 \n",
      "Year '5' = 14.025 \n",
      "Year '6' = 14.19 \n",
      "Year '7' = 14.355 \n",
      "Year '8' = 14.52 \n",
      "Year '9' = 14.685 \n",
      "Year '10' = 14.85 \n",
      "Year '11' = 15.015 \n",
      "Year '12' = 15.18 \n",
      "Year '13' = 15.345 \n",
      "Year '14' = 15.51 \n",
      "Year '15' = 15.675 \n"
     ]
    }
   ],
   "source": [
    "your_weight = 80\n",
    "print(\"Your weight on the moon This Year =  \" , round(your_weight * 0.165, 3))\n",
    "for year in range(15):\n",
    "    your_weight += 1\n",
    "    weight_on_the_moon = round(your_weight * 0.165, 3)\n",
    "    print(f\"Year '{year + 1 }' = {weight_on_the_moon} \")"
   ]
  }
 ],
 "metadata": {
  "kernelspec": {
   "display_name": "Python 3",
   "language": "python",
   "name": "python3"
  },
  "language_info": {
   "codemirror_mode": {
    "name": "ipython",
    "version": 3
   },
   "file_extension": ".py",
   "mimetype": "text/x-python",
   "name": "python",
   "nbconvert_exporter": "python",
   "pygments_lexer": "ipython3",
   "version": "3.10.11"
  }
 },
 "nbformat": 4,
 "nbformat_minor": 2
}
